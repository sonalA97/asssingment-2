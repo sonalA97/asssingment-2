{
 "cells": [
  {
   "cell_type": "code",
   "execution_count": 28,
   "id": "0faa2379",
   "metadata": {},
   "outputs": [
    {
     "name": "stdout",
     "output_type": "stream",
     "text": [
      "ENTRE NUMBER  WANT TO ADD IN LIST : 4\n",
      "FIRST ELEMENT : 1\n",
      "SECOND ELEMENT : 2\n",
      "THE LIST IS :  [(1, 2)]\n",
      "FIRST ELEMENT : 3\n",
      "SECOND ELEMENT : 4\n",
      "THE LIST IS :  [(1, 2), (3, 4)]\n",
      "FIRST ELEMENT : 5\n",
      "SECOND ELEMENT : 6\n",
      "THE LIST IS :  [(1, 2), (3, 4), (5, 6)]\n",
      "FIRST ELEMENT : 7\n",
      "SECOND ELEMENT : 8\n",
      "THE LIST IS :  [(1, 2), (3, 4), (5, 6), (7, 8)]\n",
      "THE LIST AFTER SORTING :  [(1, 2), (3, 4), (5, 6), (7, 8)]\n"
     ]
    }
   ],
   "source": [
    "#Write a Python program to get a list, sorted in increasing order by the last element in each tuple from a given list of non-empty tuples\n",
    "\n",
    "\n",
    "num=int(input(\"ENTRE NUMBER  WANT TO ADD IN LIST : \"))\n",
    "l=[]\n",
    "list1=[]\n",
    "i=1\n",
    "for i in range(num):\n",
    "    s1=int(input(\"FIRST ELEMENT : \"))\n",
    "    s2=int(input(\"SECOND ELEMENT : \"))\n",
    "    l.append(s1)\n",
    "    l.append(s2)\n",
    "    tup=tuple(l)\n",
    "    list1.append(tup)\n",
    "    l=[]\n",
    "    i=i+1\n",
    "    print(\"THE LIST IS : \",list1)\n",
    "\n",
    "list2=len(list1)\n",
    "for j in range(0,list2 -j -1):\n",
    "    if(list1 [j][-1] > list1 [j+1][-1]):\n",
    "        swap=list1\n",
    "        swap=list1\n",
    "        list1[j+1]=swap\n",
    "\n",
    "\n",
    "print(\"THE LIST AFTER SORTING : \",list1)\n",
    "    \n",
    "    "
   ]
  },
  {
   "cell_type": "code",
   "execution_count": null,
   "id": "990fb47f",
   "metadata": {},
   "outputs": [],
   "source": [
    "#Write a Python program to print a dictionary whose keys should be the alphabet from a-z and the value should be corresponding ASCII values\n",
    "\n",
    "a=dict()\n",
    "for i in range(97,123):\n",
    "    a[chr(i)]=str(i)\n",
    "print(a)"
   ]
  }
 ],
 "metadata": {
  "kernelspec": {
   "display_name": "Python 3 (ipykernel)",
   "language": "python",
   "name": "python3"
  },
  "language_info": {
   "codemirror_mode": {
    "name": "ipython",
    "version": 3
   },
   "file_extension": ".py",
   "mimetype": "text/x-python",
   "name": "python",
   "nbconvert_exporter": "python",
   "pygments_lexer": "ipython3",
   "version": "3.10.5"
  }
 },
 "nbformat": 4,
 "nbformat_minor": 5
}
